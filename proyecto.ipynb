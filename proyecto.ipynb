{
 "cells": [
  {
   "cell_type": "markdown",
   "metadata": {},
   "source": [
    "## Do\n",
    "- Utilizar el dataset (DONE)\n",
    "- Reducir dimensionalidad\n",
    "    - PCA\n",
    "    - Hard wavelet\n",
    "- Implementar o **usar librerías** de SVM, KNN y Árboles de Decisión\n",
    "- Realizar el proceso de entrenamiento mediante K-fold cross validation y Bootstrap para estimar el error\n",
    "- Valores de Precisión\n",
    "    - Recall\n",
    "    - F1 - Score\n",
    "    - AUC\n",
    "- Conclusión"
   ]
  },
  {
   "cell_type": "code",
   "execution_count": 41,
   "metadata": {},
   "outputs": [],
   "source": [
    "import numpy as np\n",
    "import pandas as pd\n",
    "\n",
    "#from sklearn.pipeline import make_pipeline\n",
    "from sklearn.preprocessing import StandardScaler\n",
    "from sklearn.metrics import accuracy_score\n",
    "from sklearn.metrics import f1_score, recall_score, roc_auc_score\n",
    "from sklearn.model_selection import KFold\n",
    "from sklearn.utils import resample\n",
    "\n",
    "# Revisar OPENCV \n",
    "# Probar con la data actual sin reducir dimensionalidad"
   ]
  },
  {
   "cell_type": "markdown",
   "metadata": {},
   "source": [
    "# Seed"
   ]
  },
  {
   "cell_type": "code",
   "execution_count": 2,
   "metadata": {},
   "outputs": [],
   "source": [
    "from numpy.random import MT19937\n",
    "from numpy.random import RandomState, SeedSequence\n",
    "rs = RandomState(MT19937(SeedSequence(421413123)))\n",
    "\n",
    "# Restart the stream\n",
    "#rs = RandomState(MT19937(SeedSequence(987654321)))"
   ]
  },
  {
   "cell_type": "markdown",
   "metadata": {},
   "source": [
    "## Procesos de Entrenamiento"
   ]
  },
  {
   "cell_type": "code",
   "execution_count": 68,
   "metadata": {},
   "outputs": [],
   "source": [
    "def show_results(K, f1_arr, r_score_arr, auc_arr, model_name):\n",
    "    print(\"=============================\")\n",
    "    print(f\"Model: {model_name}\")\n",
    "    print(\"=============================\")\n",
    "    print(f\"AVERAGE k = {K}\")\n",
    "    print(f\"F1 score: {f1_arr.mean()}\")\n",
    "    print(f\"Recall score: {r_score_arr.mean()}\")\n",
    "    print(f\"AUC: {auc_arr.mean()}\")"
   ]
  },
  {
   "cell_type": "code",
   "execution_count": 117,
   "metadata": {},
   "outputs": [],
   "source": [
    "def K_fold_cross_validation(X_train, y_train, X_test, y_test ,model, random = None, k = 3, model_name = None):\n",
    "    KFOLD = KFold(n_splits = k, random_state=None)\n",
    "    f1_arr = np.array([])\n",
    "    r_score_arr = np.array([])\n",
    "    auc_arr = np.array([])\n",
    "    for train_index, test_index in KFOLD.split(X_train):\n",
    "        train_X, train_y = X_train[train_index], y_train[train_index]\n",
    "        #test_X, test_y = X_train[test_index], y_train[test_index]\n",
    "        \n",
    "        model.fit(train_X, train_y)\n",
    "        y_pred = model.predict(X_test)\n",
    "        # F1 SCORE\n",
    "        f1 = f1_score(y_test, y_pred, average=None)\n",
    "        f1_arr = np.append(f1_arr, [f1])\n",
    "        # RECALL SCORE\n",
    "        r_score = recall_score(y_test, y_pred, average = None)\n",
    "        r_score_arr = np.append(r_score_arr, [r_score])\n",
    "        # AUC\n",
    "        AUC = roc_auc_score(y_test, model.predict_proba(X_test), multi_class='ovr')\n",
    "        auc_arr = np.append(auc_arr, [AUC])\n",
    "    return np.array([f1_arr.mean(), r_score_arr.mean(), auc_arr.mean()])\n",
    "    #show_results(k, f1_arr, r_score_arr, auc_arr, model_name)\n"
   ]
  },
  {
   "cell_type": "code",
   "execution_count": 118,
   "metadata": {},
   "outputs": [],
   "source": [
    "def bs(n, n_bootstrap= 3, n_train = 0.5, random_state = None):\n",
    "    n_train = int(n * n_train)\n",
    "    arr = np.array([i for i in range(n)])\n",
    "    for i in range(n_bootstrap):\n",
    "        train_index = resample(arr, n_samples = n_train, replace = True, random_state = random_state) \n",
    "        test_index = np.delete(arr, train_index)\n",
    "        yield train_index, test_index\n",
    "\n",
    "def Bootstrap(X, y, X_t, y_t,model, random, k, model_name):\n",
    "    f1_arr = np.array([])\n",
    "    r_score_arr = np.array([])\n",
    "    auc_arr = np.array([])\n",
    "    for train_index, test_index in bs(len(X), k, random_state = random):\n",
    "        X_train, y_train = X[train_index], y[train_index]\n",
    "        # X_test, y_test = X[test_index], y[test_index]\n",
    "        model.fit(X_train, y_train)\n",
    "        y_pred = model.predict(X_t)\n",
    "        # F1 SCORE\n",
    "        f1 = f1_score(y_t, y_pred, average=None)\n",
    "        f1_arr = np.append(f1_arr, [f1])\n",
    "        # RECALL SCORE\n",
    "        r_score = recall_score(y_t, y_pred, average =None)\n",
    "        r_score_arr = np.append(r_score_arr, [r_score])\n",
    "        # AUC\n",
    "        AUC = roc_auc_score(y_t, model.predict_proba(X_t), multi_class='ovr')\n",
    "        auc_arr = np.append(auc_arr, [AUC])\n",
    "        #auc_arr = np.append(auc_arr, AUC)\n",
    "    return np.array([f1_arr.mean(), r_score_arr.mean(), auc_arr.mean()])\n",
    "    #show_results(k, f1_arr, r_score_arr, auc_arr, model_name)"
   ]
  },
  {
   "cell_type": "markdown",
   "metadata": {},
   "source": [
    "## Data"
   ]
  },
  {
   "cell_type": "code",
   "execution_count": 74,
   "metadata": {},
   "outputs": [],
   "source": [
    "train_path = \"dataset/sign_mnist_train.csv\"\n",
    "test_path = \"dataset/sign_mnist_test.csv\""
   ]
  },
  {
   "cell_type": "code",
   "execution_count": 75,
   "metadata": {},
   "outputs": [],
   "source": [
    "df_train = pd.read_csv(train_path)\n",
    "df_test = pd.read_csv(test_path)"
   ]
  },
  {
   "cell_type": "code",
   "execution_count": 76,
   "metadata": {},
   "outputs": [],
   "source": [
    "# TRAIN\n",
    "y_train = np.array(df_train.iloc[:,0])\n",
    "X_train = np.array(df_train.iloc[:, 1:])\n",
    "# TEST\n",
    "y_test = np.array(df_test.iloc[:, 0])\n",
    "X_test = np.array(df_test.iloc[:, 1:])"
   ]
  },
  {
   "cell_type": "markdown",
   "metadata": {},
   "source": [
    "## Support Vector Machine"
   ]
  },
  {
   "cell_type": "code",
   "execution_count": 106,
   "metadata": {},
   "outputs": [],
   "source": [
    "# https://scikit-learn.org/stable/modules/generated/sklearn.svm.SVC.html\n",
    "from sklearn.svm import SVC\n",
    "svm = SVC(decision_function_shape='ovr', probability=True)\n"
   ]
  },
  {
   "cell_type": "code",
   "execution_count": 107,
   "metadata": {},
   "outputs": [
    {
     "data": {
      "text/html": [
       "<div>\n",
       "<style scoped>\n",
       "    .dataframe tbody tr th:only-of-type {\n",
       "        vertical-align: middle;\n",
       "    }\n",
       "\n",
       "    .dataframe tbody tr th {\n",
       "        vertical-align: top;\n",
       "    }\n",
       "\n",
       "    .dataframe thead th {\n",
       "        text-align: right;\n",
       "    }\n",
       "</style>\n",
       "<table border=\"1\" class=\"dataframe\">\n",
       "  <thead>\n",
       "    <tr style=\"text-align: right;\">\n",
       "      <th></th>\n",
       "      <th>3</th>\n",
       "    </tr>\n",
       "  </thead>\n",
       "  <tbody>\n",
       "    <tr>\n",
       "      <th>f1 score</th>\n",
       "      <td>0.821017</td>\n",
       "    </tr>\n",
       "    <tr>\n",
       "      <th>recall score</th>\n",
       "      <td>0.825507</td>\n",
       "    </tr>\n",
       "    <tr>\n",
       "      <th>AUC</th>\n",
       "      <td>0.989594</td>\n",
       "    </tr>\n",
       "  </tbody>\n",
       "</table>\n",
       "</div>"
      ],
      "text/plain": [
       "                     3\n",
       "f1 score      0.821017\n",
       "recall score  0.825507\n",
       "AUC           0.989594"
      ]
     },
     "execution_count": 107,
     "metadata": {},
     "output_type": "execute_result"
    }
   ],
   "source": [
    "begin = 3\n",
    "end = 13\n",
    "\n",
    "resultados = {}\n",
    "\n",
    "for i in range(begin, end, 1):\n",
    "    resultados[i] = K_fold_cross_validation(X_train, y_train,X_test, y_test, svm, None, k = i, model_name=\"Support Vector Machine\")\n",
    "\n",
    "svm_kFold = pd.DataFrame(resultados, index=[\"f1 score\", \"recall score\", \"AUC\"])\n",
    "svm_kFold.head()"
   ]
  },
  {
   "cell_type": "code",
   "execution_count": null,
   "metadata": {},
   "outputs": [
    {
     "name": "stdout",
     "output_type": "stream",
     "text": [
      "=============================\n",
      "Model: Support Vector Machine\n",
      "=============================\n",
      "AVERAGE k = 3\n",
      "F1 score: 0.997177948745308\n",
      "Recall score: 0.997177948745308\n",
      "AUC: 1.0\n"
     ]
    }
   ],
   "source": [
    "resultados = {}\n",
    "\n",
    "for i in range(begin, end, 1):\n",
    "    resultados[i] = Bootstrap(X_train, y_train,X_test, y_test, svm, rs, k = i, model_name=\"Support Vector Machine\")\n",
    "\n",
    "svm_Bootstrap = pd.DataFrame(resultados, index=[\"f1 score\", \"recall score\", \"AUC\"])\n",
    "svm_Bootstrap.head()"
   ]
  },
  {
   "cell_type": "markdown",
   "metadata": {},
   "source": [
    "## Decision Tree"
   ]
  },
  {
   "cell_type": "code",
   "execution_count": null,
   "metadata": {},
   "outputs": [],
   "source": [
    "from sklearn.tree import DecisionTreeClassifier\n",
    "# https://scikit-learn.org/stable/modules/generated/sklearn.tree.DecisionTreeClassifier.html\n",
    "# https://scikit-learn.org/stable/modules/tree.html\n",
    "tree = DecisionTreeClassifier(random_state = 0)"
   ]
  },
  {
   "cell_type": "code",
   "execution_count": 103,
   "metadata": {},
   "outputs": [
    {
     "data": {
      "text/html": [
       "<div>\n",
       "<style scoped>\n",
       "    .dataframe tbody tr th:only-of-type {\n",
       "        vertical-align: middle;\n",
       "    }\n",
       "\n",
       "    .dataframe tbody tr th {\n",
       "        vertical-align: top;\n",
       "    }\n",
       "\n",
       "    .dataframe thead th {\n",
       "        text-align: right;\n",
       "    }\n",
       "</style>\n",
       "<table border=\"1\" class=\"dataframe\">\n",
       "  <thead>\n",
       "    <tr style=\"text-align: right;\">\n",
       "      <th></th>\n",
       "      <th>3</th>\n",
       "    </tr>\n",
       "  </thead>\n",
       "  <tbody>\n",
       "    <tr>\n",
       "      <th>f1 score</th>\n",
       "      <td>0.423212</td>\n",
       "    </tr>\n",
       "    <tr>\n",
       "      <th>recall score</th>\n",
       "      <td>0.431181</td>\n",
       "    </tr>\n",
       "    <tr>\n",
       "      <th>AUC</th>\n",
       "      <td>0.703356</td>\n",
       "    </tr>\n",
       "  </tbody>\n",
       "</table>\n",
       "</div>"
      ],
      "text/plain": [
       "                     3\n",
       "f1 score      0.423212\n",
       "recall score  0.431181\n",
       "AUC           0.703356"
      ]
     },
     "execution_count": 103,
     "metadata": {},
     "output_type": "execute_result"
    }
   ],
   "source": [
    "begin = 3\n",
    "end = 12\n",
    "\n",
    "resultados = {}\n",
    "\n",
    "for i in range(begin, end, 1):\n",
    "    resultados[i] = K_fold_cross_validation(X_train, y_train, X_test, y_test, tree, None, k = i, model_name=\"Decision Tree\")\n",
    "\n",
    "DTree_kFold = pd.DataFrame(resultados, index=[\"f1 score\", \"recall score\", \"AUC\"])\n",
    "DTree_kFold.head()"
   ]
  },
  {
   "cell_type": "code",
   "execution_count": 104,
   "metadata": {},
   "outputs": [
    {
     "data": {
      "text/html": [
       "<div>\n",
       "<style scoped>\n",
       "    .dataframe tbody tr th:only-of-type {\n",
       "        vertical-align: middle;\n",
       "    }\n",
       "\n",
       "    .dataframe tbody tr th {\n",
       "        vertical-align: top;\n",
       "    }\n",
       "\n",
       "    .dataframe thead th {\n",
       "        text-align: right;\n",
       "    }\n",
       "</style>\n",
       "<table border=\"1\" class=\"dataframe\">\n",
       "  <thead>\n",
       "    <tr style=\"text-align: right;\">\n",
       "      <th></th>\n",
       "      <th>3</th>\n",
       "    </tr>\n",
       "  </thead>\n",
       "  <tbody>\n",
       "    <tr>\n",
       "      <th>f1 score</th>\n",
       "      <td>0.384303</td>\n",
       "    </tr>\n",
       "    <tr>\n",
       "      <th>recall score</th>\n",
       "      <td>0.389273</td>\n",
       "    </tr>\n",
       "    <tr>\n",
       "      <th>AUC</th>\n",
       "      <td>0.681508</td>\n",
       "    </tr>\n",
       "  </tbody>\n",
       "</table>\n",
       "</div>"
      ],
      "text/plain": [
       "                     3\n",
       "f1 score      0.384303\n",
       "recall score  0.389273\n",
       "AUC           0.681508"
      ]
     },
     "execution_count": 104,
     "metadata": {},
     "output_type": "execute_result"
    }
   ],
   "source": [
    "resultados = {}\n",
    "for i in range(begin, end, 1):\n",
    "    resultados[i] = Bootstrap(X_train, y_train, X_test, y_test, tree, rs, k = i, model_name=\"Decision Tree\")\n",
    "\n",
    "DTree_bootstrap = pd.DataFrame(resultados, index=[\"f1 score\", \"recall score\", \"AUC\"])\n",
    "DTree_bootstrap.head()"
   ]
  },
  {
   "cell_type": "markdown",
   "metadata": {},
   "source": [
    "## KNN"
   ]
  },
  {
   "cell_type": "code",
   "execution_count": 108,
   "metadata": {},
   "outputs": [],
   "source": [
    "# https://scikit-learn.org/stable/modules/generated/sklearn.neighbors.KNeighborsClassifier.html\n",
    "from sklearn.neighbors import KNeighborsClassifier\n",
    "knn = KNeighborsClassifier(n_neighbors = 5, n_jobs = -1)\n"
   ]
  },
  {
   "cell_type": "code",
   "execution_count": 110,
   "metadata": {},
   "outputs": [
    {
     "data": {
      "text/html": [
       "<div>\n",
       "<style scoped>\n",
       "    .dataframe tbody tr th:only-of-type {\n",
       "        vertical-align: middle;\n",
       "    }\n",
       "\n",
       "    .dataframe tbody tr th {\n",
       "        vertical-align: top;\n",
       "    }\n",
       "\n",
       "    .dataframe thead th {\n",
       "        text-align: right;\n",
       "    }\n",
       "</style>\n",
       "<table border=\"1\" class=\"dataframe\">\n",
       "  <thead>\n",
       "    <tr style=\"text-align: right;\">\n",
       "      <th></th>\n",
       "      <th>f1 score</th>\n",
       "      <th>recall score</th>\n",
       "      <th>AUC</th>\n",
       "    </tr>\n",
       "  </thead>\n",
       "  <tbody>\n",
       "    <tr>\n",
       "      <th>3</th>\n",
       "      <td>0.783984</td>\n",
       "      <td>0.788955</td>\n",
       "      <td>0.936947</td>\n",
       "    </tr>\n",
       "    <tr>\n",
       "      <th>4</th>\n",
       "      <td>0.786921</td>\n",
       "      <td>0.791664</td>\n",
       "      <td>0.935527</td>\n",
       "    </tr>\n",
       "  </tbody>\n",
       "</table>\n",
       "</div>"
      ],
      "text/plain": [
       "   f1 score  recall score       AUC\n",
       "3  0.783984      0.788955  0.936947\n",
       "4  0.786921      0.791664  0.935527"
      ]
     },
     "execution_count": 110,
     "metadata": {},
     "output_type": "execute_result"
    }
   ],
   "source": [
    "begin = 3\n",
    "end = 13\n",
    "\n",
    "resultados = {}\n",
    "for i in range(begin, end, 1):\n",
    "    resultados[i] = K_fold_cross_validation(X_train, y_train, X_test, y_test, knn, None, k = i, model_name=\"KNN\")\n",
    "knn_kfold = pd.DataFrame(resultados, index=[\"F1 Score\", \"Recall Score\", \"AUC\"])\n",
    "knn_kfold.T.head()\n"
   ]
  },
  {
   "cell_type": "code",
   "execution_count": 116,
   "metadata": {},
   "outputs": [
    {
     "data": {
      "text/html": [
       "<div>\n",
       "<style scoped>\n",
       "    .dataframe tbody tr th:only-of-type {\n",
       "        vertical-align: middle;\n",
       "    }\n",
       "\n",
       "    .dataframe tbody tr th {\n",
       "        vertical-align: top;\n",
       "    }\n",
       "\n",
       "    .dataframe thead th {\n",
       "        text-align: right;\n",
       "    }\n",
       "</style>\n",
       "<table border=\"1\" class=\"dataframe\">\n",
       "  <thead>\n",
       "    <tr style=\"text-align: right;\">\n",
       "      <th></th>\n",
       "      <th>f1 score</th>\n",
       "      <th>recall score</th>\n",
       "      <th>AUC</th>\n",
       "    </tr>\n",
       "  </thead>\n",
       "  <tbody>\n",
       "    <tr>\n",
       "      <th>3</th>\n",
       "      <td>0.762687</td>\n",
       "      <td>0.767490</td>\n",
       "      <td>0.93205</td>\n",
       "    </tr>\n",
       "    <tr>\n",
       "      <th>4</th>\n",
       "      <td>0.757351</td>\n",
       "      <td>0.761681</td>\n",
       "      <td>0.93246</td>\n",
       "    </tr>\n",
       "  </tbody>\n",
       "</table>\n",
       "</div>"
      ],
      "text/plain": [
       "   f1 score  recall score      AUC\n",
       "3  0.762687      0.767490  0.93205\n",
       "4  0.757351      0.761681  0.93246"
      ]
     },
     "execution_count": 116,
     "metadata": {},
     "output_type": "execute_result"
    }
   ],
   "source": [
    "resultados = {}\n",
    "for i in range(begin, end, 1):\n",
    "    resultados[i]= Bootstrap(X_train, y_train, X_test, y_test, knn, rs, k = i, model_name=\"KNN\")\n",
    "knn_bootstrap = pd.DataFrame(resultados, index=[\"F1 score\", \"Recall score\", \"AUC\"])\n",
    "knn_bootstrap.T.head()"
   ]
  }
 ],
 "metadata": {
  "kernelspec": {
   "display_name": "Python 3.9.12 ('base')",
   "language": "python",
   "name": "python3"
  },
  "language_info": {
   "codemirror_mode": {
    "name": "ipython",
    "version": 3
   },
   "file_extension": ".py",
   "mimetype": "text/x-python",
   "name": "python",
   "nbconvert_exporter": "python",
   "pygments_lexer": "ipython3",
   "version": "3.9.12"
  },
  "orig_nbformat": 4,
  "vscode": {
   "interpreter": {
    "hash": "cc8e5058f68ae25fd0b682edbcb4bd875f373e41e844c915b7302617da639678"
   }
  }
 },
 "nbformat": 4,
 "nbformat_minor": 2
}
